{
 "cells": [
  {
   "cell_type": "code",
   "execution_count": 19,
   "id": "3a7f17e7",
   "metadata": {},
   "outputs": [
    {
     "name": "stdout",
     "output_type": "stream",
     "text": [
      "160 3997\n",
      "4\n",
      "[False, False, True, False, True, False, False, True, False, True, True, False, True, False, False]\n"
     ]
    }
   ],
   "source": [
    "from itertools import groupby\n",
    "\n",
    "package = []\n",
    "with open(\"scope_csv_0.csv\", \"r\") as file:\n",
    "    next(file) # ignore header\n",
    "    raw = []\n",
    "    for line in file:\n",
    "        raw.append(float(line.split(\",\")[1]))\n",
    "        \n",
    "    bits = []\n",
    "    for d in raw:\n",
    "        bits.append(d > (min(raw) + max(raw))/2)\n",
    "        \n",
    "    start = 1\n",
    "    while bits[start] == bits[0]:\n",
    "        start += 1\n",
    "    \n",
    "    stop = len(bits)-2\n",
    "    while bits[stop] == bits[len(bits)-1]:\n",
    "        stop -= 1\n",
    "        \n",
    "    print(start, stop)\n",
    "    \n",
    "    package = bits[start:stop]\n",
    "\n",
    "symbol_len = min([len(list(group)) for _, group in groupby(package)])\n",
    "print(symbol_len)\n",
    "\n",
    "data = []\n",
    "\n",
    "index = 0\n",
    "while index < len(package):\n",
    "    symbol = package[index:index+symbol_len]\n",
    "    # check for stray symbol parts\n",
    "    if not any(s != symbol[0] for s in symbol):\n",
    "        data.append(symbol[0])\n",
    "        index = index + symbol_len\n",
    "    else:\n",
    "        while symbol[0] == package[index]:\n",
    "            index += 1;\n",
    "data.append(1) # add back last\n",
    "\n",
    "print(data[0:15])\n",
    "        "
   ]
  },
  {
   "cell_type": "code",
   "execution_count": 22,
   "id": "f34cb772",
   "metadata": {},
   "outputs": [
    {
     "data": {
      "text/plain": [
       "''"
      ]
     },
     "execution_count": 22,
     "metadata": {},
     "output_type": "execute_result"
    }
   ],
   "source": [
    "chunk_len = 11\n",
    "data_start = 1\n",
    "data_stop = 10\n",
    "\n",
    "\n",
    "chunks = []\n",
    "index = 0\n",
    "while index < len(data) and index+chunk_len > len(data):\n",
    "    chunks.append(data[index:index+chunk_len])\n",
    "    index += chunk_len\n",
    "    \n",
    "str = \"\"\n",
    "\n",
    "for c in chunks:\n",
    "    if c[0] != 0 or c[chunk_len-1] != 1:\n",
    "        print(\"wrong chunk_len\")\n",
    "    else:\n",
    "        str += chr(sum(2**i*b for i, b in enumerate(c[data_start:data_stop])))\n",
    "\n",
    "str"
   ]
  },
  {
   "cell_type": "code",
   "execution_count": null,
   "id": "faa6c7a7",
   "metadata": {},
   "outputs": [],
   "source": []
  },
  {
   "cell_type": "code",
   "execution_count": null,
   "id": "58f72737",
   "metadata": {},
   "outputs": [],
   "source": []
  }
 ],
 "metadata": {
  "kernelspec": {
   "display_name": "Python 3 (ipykernel)",
   "language": "python",
   "name": "python3"
  },
  "language_info": {
   "codemirror_mode": {
    "name": "ipython",
    "version": 3
   },
   "file_extension": ".py",
   "mimetype": "text/x-python",
   "name": "python",
   "nbconvert_exporter": "python",
   "pygments_lexer": "ipython3",
   "version": "3.9.12"
  }
 },
 "nbformat": 4,
 "nbformat_minor": 5
}
